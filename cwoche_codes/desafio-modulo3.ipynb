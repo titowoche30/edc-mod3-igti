{
 "cells": [
  {
   "cell_type": "code",
   "execution_count": 63,
   "id": "ebbf9c42",
   "metadata": {},
   "outputs": [
    {
     "name": "stdout",
     "output_type": "stream",
     "text": [
      "Starting Spark application\n"
     ]
    },
    {
     "data": {
      "text/html": [
       "<table>\n",
       "<tr><th>ID</th><th>YARN Application ID</th><th>Kind</th><th>State</th><th>Spark UI</th><th>Driver log</th><th>Current session?</th></tr><tr><td>3</td><td>application_1631660312588_0005</td><td>spark</td><td>idle</td><td><a target=\"_blank\" href=\"http://ip-172-31-86-212.ec2.internal:20888/proxy/application_1631660312588_0005/\">Link</a></td><td><a target=\"_blank\" href=\"http://ip-172-31-91-197.ec2.internal:8042/node/containerlogs/container_1631660312588_0005_01_000001/livy\">Link</a></td><td>✔</td></tr></table>"
      ],
      "text/plain": [
       "<IPython.core.display.HTML object>"
      ]
     },
     "metadata": {},
     "output_type": "display_data"
    },
    {
     "data": {
      "application/vnd.jupyter.widget-view+json": {
       "model_id": "",
       "version_major": 2,
       "version_minor": 0
      },
      "text/plain": [
       "FloatProgress(value=0.0, bar_style='info', description='Progress:', layout=Layout(height='25px', width='50%'),…"
      ]
     },
     "metadata": {},
     "output_type": "display_data"
    },
    {
     "name": "stdout",
     "output_type": "stream",
     "text": [
      "SparkSession available as 'spark'.\n"
     ]
    },
    {
     "data": {
      "text/html": [
       "Current session configs: <tt>{'conf': {'spark.sql.legacy.parquet.datetimeRebaseModeInRead': 'CORRECTED', 'spark.sql.legacy.parquet.int96RebaseModeInWrite': 'CORRECTED', 'spark.sql.legacy.parquet.datetimeRebaseModeInWrite': 'CORRECTED'}, 'kind': 'spark'}</tt><br>"
      ],
      "text/plain": [
       "<IPython.core.display.HTML object>"
      ]
     },
     "metadata": {},
     "output_type": "display_data"
    },
    {
     "data": {
      "text/html": [
       "<table>\n",
       "<tr><th>ID</th><th>YARN Application ID</th><th>Kind</th><th>State</th><th>Spark UI</th><th>Driver log</th><th>Current session?</th></tr><tr><td>3</td><td>application_1631660312588_0005</td><td>spark</td><td>idle</td><td><a target=\"_blank\" href=\"http://ip-172-31-86-212.ec2.internal:20888/proxy/application_1631660312588_0005/\">Link</a></td><td><a target=\"_blank\" href=\"http://ip-172-31-91-197.ec2.internal:8042/node/containerlogs/container_1631660312588_0005_01_000001/livy\">Link</a></td><td>✔</td></tr></table>"
      ],
      "text/plain": [
       "<IPython.core.display.HTML object>"
      ]
     },
     "metadata": {},
     "output_type": "display_data"
    }
   ],
   "source": [
    "%%configure -f\n",
    "{\"conf\":{\"spark.sql.legacy.parquet.datetimeRebaseModeInRead\":\"CORRECTED\",\n",
    "         \"spark.sql.legacy.parquet.int96RebaseModeInWrite\":\"CORRECTED\",\n",
    "        \"spark.sql.legacy.parquet.datetimeRebaseModeInWrite\":\"CORRECTED\"}\n",
    "}"
   ]
  },
  {
   "cell_type": "code",
   "execution_count": 64,
   "id": "b4c3feaf",
   "metadata": {},
   "outputs": [
    {
     "data": {
      "application/vnd.jupyter.widget-view+json": {
       "model_id": "c2e209bca39e4cc1b8ea051fca565327",
       "version_major": 2,
       "version_minor": 0
      },
      "text/plain": [
       "VBox()"
      ]
     },
     "metadata": {},
     "output_type": "display_data"
    },
    {
     "data": {
      "application/vnd.jupyter.widget-view+json": {
       "model_id": "",
       "version_major": 2,
       "version_minor": 0
      },
      "text/plain": [
       "FloatProgress(value=0.0, bar_style='info', description='Progress:', layout=Layout(height='25px', width='50%'),…"
      ]
     },
     "metadata": {},
     "output_type": "display_data"
    },
    {
     "name": "stdout",
     "output_type": "stream",
     "text": [
      "res1: org.apache.spark.sql.SparkSession = org.apache.spark.sql.SparkSession@79fe77f9\n"
     ]
    }
   ],
   "source": [
    "spark"
   ]
  },
  {
   "cell_type": "code",
   "execution_count": 65,
   "id": "344230ec",
   "metadata": {},
   "outputs": [
    {
     "data": {
      "application/vnd.jupyter.widget-view+json": {
       "model_id": "886788b0f2c447278e083e514c3d1ffb",
       "version_major": 2,
       "version_minor": 0
      },
      "text/plain": [
       "VBox()"
      ]
     },
     "metadata": {},
     "output_type": "display_data"
    },
    {
     "data": {
      "application/vnd.jupyter.widget-view+json": {
       "model_id": "",
       "version_major": 2,
       "version_minor": 0
      },
      "text/plain": [
       "FloatProgress(value=0.0, bar_style='info', description='Progress:', layout=Layout(height='25px', width='50%'),…"
      ]
     },
     "metadata": {},
     "output_type": "display_data"
    },
    {
     "name": "stdout",
     "output_type": "stream",
     "text": [
      "import org.apache.spark.sql.functions._\n",
      "import org.apache.spark.sql.types._\n"
     ]
    }
   ],
   "source": [
    "import org.apache.spark.sql.functions._\n",
    "import org.apache.spark.sql.types._"
   ]
  },
  {
   "cell_type": "code",
   "execution_count": 7,
   "id": "b3958091",
   "metadata": {},
   "outputs": [
    {
     "data": {
      "application/vnd.jupyter.widget-view+json": {
       "model_id": "77c60fb3180c49d5b3be496b3e1b8e14",
       "version_major": 2,
       "version_minor": 0
      },
      "text/plain": [
       "VBox()"
      ]
     },
     "metadata": {},
     "output_type": "display_data"
    },
    {
     "data": {
      "application/vnd.jupyter.widget-view+json": {
       "model_id": "",
       "version_major": 2,
       "version_minor": 0
      },
      "text/plain": [
       "FloatProgress(value=0.0, bar_style='info', description='Progress:', layout=Layout(height='25px', width='50%'),…"
      ]
     },
     "metadata": {},
     "output_type": "display_data"
    },
    {
     "name": "stdout",
     "output_type": "stream",
     "text": [
      "schema_cnae: String = cod_cnae INT, descricao_cnae STRING\n",
      "df_cnae: org.apache.spark.sql.DataFrame = [cod_cnae: int, descricao_cnae: string]\n",
      "root\n",
      " |-- cod_cnae: integer (nullable = true)\n",
      " |-- descricao_cnae: string (nullable = true)\n",
      "\n",
      "+--------+--------------------+\n",
      "|cod_cnae|      descricao_cnae|\n",
      "+--------+--------------------+\n",
      "|  111301|    Cultivo de arroz|\n",
      "|  111302|    Cultivo de milho|\n",
      "|  111303|    Cultivo de trigo|\n",
      "|  111399|Cultivo de outros...|\n",
      "|  112101|Cultivo de algodã...|\n",
      "|  112102|     Cultivo de juta|\n",
      "|  112199|Cultivo de outras...|\n",
      "|  113000|Cultivo de cana-d...|\n",
      "|  114800|     Cultivo de fumo|\n",
      "|  115600|     Cultivo de soja|\n",
      "|  116401| Cultivo de amendoim|\n",
      "|  116402| Cultivo de girassol|\n",
      "|  116403|   Cultivo de mamona|\n",
      "|  116499|Cultivo de outras...|\n",
      "|  119901|  Cultivo de abacaxi|\n",
      "+--------+--------------------+\n",
      "only showing top 15 rows\n",
      "\n"
     ]
    }
   ],
   "source": [
    "val schema_cnae = \"cod_cnae INT, descricao_cnae STRING\"\n",
    "val df_cnae = (spark.read\n",
    "               .option(\"header\",\"false\")\n",
    "               .option(\"sep\",\";\")\n",
    "               .option(\"encoding\",\"ISO-8859-1\")\n",
    "               .schema(schema_cnae)\n",
    "               .csv(\"s3://datalake-claudemir-649165755582/F.K03200$Z.D10710.CNAE.csv\"))\n",
    "\n",
    "df_cnae.printSchema()\n",
    "df_cnae.show(15)"
   ]
  },
  {
   "cell_type": "code",
   "execution_count": 8,
   "id": "61df8f46",
   "metadata": {},
   "outputs": [
    {
     "data": {
      "application/vnd.jupyter.widget-view+json": {
       "model_id": "808278daca36432b9b0f86e0cdf50ed0",
       "version_major": 2,
       "version_minor": 0
      },
      "text/plain": [
       "VBox()"
      ]
     },
     "metadata": {},
     "output_type": "display_data"
    },
    {
     "data": {
      "application/vnd.jupyter.widget-view+json": {
       "model_id": "",
       "version_major": 2,
       "version_minor": 0
      },
      "text/plain": [
       "FloatProgress(value=0.0, bar_style='info', description='Progress:', layout=Layout(height='25px', width='50%'),…"
      ]
     },
     "metadata": {},
     "output_type": "display_data"
    },
    {
     "name": "stdout",
     "output_type": "stream",
     "text": [
      "schema_municipios: String = cod_municipio INT, descricao_municipio STRING\n",
      "df_municipios: org.apache.spark.sql.DataFrame = [cod_municipio: int, descricao_municipio: string]\n",
      "root\n",
      " |-- cod_municipio: integer (nullable = true)\n",
      " |-- descricao_municipio: string (nullable = true)\n",
      "\n",
      "+-------------+--------------------+\n",
      "|cod_municipio| descricao_municipio|\n",
      "+-------------+--------------------+\n",
      "|            1|       GUAJARA-MIRIM|\n",
      "|            2|ALTO ALEGRE DOS P...|\n",
      "|            3|         PORTO VELHO|\n",
      "|            4|             BURITIS|\n",
      "|            5|           JI-PARANA|\n",
      "|            6|         CHUPINGUAIA|\n",
      "|            7|           ARIQUEMES|\n",
      "|            8|             CUJUBIM|\n",
      "|            9|              CACOAL|\n",
      "|           10|          NOVA UNIAO|\n",
      "|           11|       PIMENTA BUENO|\n",
      "|           12|             PARECIS|\n",
      "|           13|             VILHENA|\n",
      "|           14|PIMENTEIRAS DO OESTE|\n",
      "|           15|                JARU|\n",
      "+-------------+--------------------+\n",
      "only showing top 15 rows\n",
      "\n"
     ]
    }
   ],
   "source": [
    "val schema_municipios = \"cod_municipio INT, descricao_municipio STRING\"\n",
    "val df_municipios = (spark.read\n",
    "               .option(\"header\",\"false\")\n",
    "               .option(\"sep\",\";\")\n",
    "               .option(\"encoding\",\"ISO-8859-1\")\n",
    "               .schema(schema_municipios)\n",
    "               .csv(\"s3://datalake-claudemir-649165755582/F.K03200$Z.D10710.MUNIC.csv\"))\n",
    "\n",
    "df_municipios.printSchema()\n",
    "df_municipios.show(15)"
   ]
  },
  {
   "cell_type": "code",
   "execution_count": 9,
   "id": "4a4607ef",
   "metadata": {},
   "outputs": [
    {
     "data": {
      "application/vnd.jupyter.widget-view+json": {
       "model_id": "f643b3e632034a7ca54f6e650f16e7da",
       "version_major": 2,
       "version_minor": 0
      },
      "text/plain": [
       "VBox()"
      ]
     },
     "metadata": {},
     "output_type": "display_data"
    },
    {
     "data": {
      "application/vnd.jupyter.widget-view+json": {
       "model_id": "",
       "version_major": 2,
       "version_minor": 0
      },
      "text/plain": [
       "FloatProgress(value=0.0, bar_style='info', description='Progress:', layout=Layout(height='25px', width='50%'),…"
      ]
     },
     "metadata": {},
     "output_type": "display_data"
    }
   ],
   "source": [
    "(df_cnae\n",
    " .write\n",
    " .mode(\"overwrite\")\n",
    " .parquet(s\"s3://datalake-claudemir-649165755582/modulo3-refined/cnae\")\n",
    ")"
   ]
  },
  {
   "cell_type": "code",
   "execution_count": 10,
   "id": "47fb4ed8",
   "metadata": {},
   "outputs": [
    {
     "data": {
      "application/vnd.jupyter.widget-view+json": {
       "model_id": "a1b30d2ad72d4158a8cdd86674e25936",
       "version_major": 2,
       "version_minor": 0
      },
      "text/plain": [
       "VBox()"
      ]
     },
     "metadata": {},
     "output_type": "display_data"
    },
    {
     "data": {
      "application/vnd.jupyter.widget-view+json": {
       "model_id": "",
       "version_major": 2,
       "version_minor": 0
      },
      "text/plain": [
       "FloatProgress(value=0.0, bar_style='info', description='Progress:', layout=Layout(height='25px', width='50%'),…"
      ]
     },
     "metadata": {},
     "output_type": "display_data"
    }
   ],
   "source": [
    "(df_municipios\n",
    " .write\n",
    " .mode(\"overwrite\")\n",
    " .parquet(s\"s3://datalake-claudemir-649165755582/modulo3-refined/municipios\")\n",
    ")"
   ]
  },
  {
   "cell_type": "code",
   "execution_count": 66,
   "id": "8f076639",
   "metadata": {},
   "outputs": [
    {
     "data": {
      "application/vnd.jupyter.widget-view+json": {
       "model_id": "6353730d497142b8a834458da1336e1b",
       "version_major": 2,
       "version_minor": 0
      },
      "text/plain": [
       "VBox()"
      ]
     },
     "metadata": {},
     "output_type": "display_data"
    },
    {
     "data": {
      "application/vnd.jupyter.widget-view+json": {
       "model_id": "",
       "version_major": 2,
       "version_minor": 0
      },
      "text/plain": [
       "FloatProgress(value=0.0, bar_style='info', description='Progress:', layout=Layout(height='25px', width='50%'),…"
      ]
     },
     "metadata": {},
     "output_type": "display_data"
    },
    {
     "name": "stdout",
     "output_type": "stream",
     "text": [
      "schema_estabelecimentos: String =\n",
      "\"\n",
      "cnpj_basico INT, cnpj_ordem INT, cnpj_dv INT, id_matriz INT, nome_fantasia STRING, situacao_cadastral INT, data_situacao_cadastral STRING,\n",
      "motivo_situacao_cadastral INT, nome_cidade_exterior STRING, id_pais INT, data_inicio_atividade STRING, cnae_fiscal_principal INT, cnae_fiscal_secundaria INT,\n",
      "tipo_logradouro STRING, logradouro STRING, num_estabelecimento INT, complemento STRING, bairro STRING, cep STRING, uf STRING, cod_municipio INT,\n",
      "ddd1 STRING, telefone1 STRING, ddd2 STRING, telefone2 STRING, ddd_fax STRING, fax STRING, email STRING, sit_especial STRING, data_sit_especial STRING\"\n",
      "df_estabelecimentos: org.apache.spark.sql.DataFrame = [cnpj_basico: int, cnpj_ordem: int ... 28 more fields]\n",
      "df_estabelecimentos_with_date: org.apache.spark.sql.DataFrame = [cnpj_basico: int, cnpj_ordem: int ... 28 more fields]\n"
     ]
    }
   ],
   "source": [
    "val schema_estabelecimentos = \"\"\"\n",
    "cnpj_basico INT, cnpj_ordem INT, cnpj_dv INT, id_matriz INT, nome_fantasia STRING, situacao_cadastral INT, data_situacao_cadastral STRING,\n",
    "motivo_situacao_cadastral INT, nome_cidade_exterior STRING, id_pais INT, data_inicio_atividade STRING, cnae_fiscal_principal INT, cnae_fiscal_secundaria INT,\n",
    "tipo_logradouro STRING, logradouro STRING, num_estabelecimento INT, complemento STRING, bairro STRING, cep STRING, uf STRING, cod_municipio INT,\n",
    "ddd1 STRING, telefone1 STRING, ddd2 STRING, telefone2 STRING, ddd_fax STRING, fax STRING, email STRING, sit_especial STRING, data_sit_especial STRING\"\"\"\n",
    "val df_estabelecimentos = (spark.read\n",
    "               .option(\"header\",\"false\")\n",
    "               .option(\"sep\",\";\")\n",
    "               .option(\"encoding\",\"ISO-8859-1\")\n",
    "               .option(\"escape\",\"\\\"\")\n",
    "               .schema(schema_estabelecimentos)\n",
    "               .csv(\"s3://datalake-claudemir-649165755582/modulo3/\"))\n",
    "\n",
    "val df_estabelecimentos_with_date = (df_estabelecimentos\n",
    "                                     .withColumn(\"ano_situacao_cadastral\",substring(col(\"data_situacao_cadastral\"),0,4))\n",
    "                                     .withColumn(\"mes_situacao_cadastral\",substring(col(\"data_situacao_cadastral\"),5,2))\n",
    "                                     .withColumn(\"dia_situacao_cadastral\",substring(col(\"data_situacao_cadastral\"),7,2))\n",
    "                                     .withColumn(\"new_data_situacao_cadastral\",concat_ws(\"-\",\n",
    "                                                                                         col(\"ano_situacao_cadastral\"),\n",
    "                                                                                         col(\"mes_situacao_cadastral\"),\n",
    "                                                                                         col(\"dia_situacao_cadastral\")\n",
    "                                                                                        ).cast(DateType))\n",
    "                                     .drop(\"ano_situacao_cadastral\",\"mes_situacao_cadastral\",\"dia_situacao_cadastral\",\"data_situacao_cadastral\")\n",
    "                                     .withColumnRenamed(\"new_data_situacao_cadastral\",\"data_situacao_cadastral\")\n",
    "                                     .withColumn(\"ano_sit_especial\",substring(col(\"data_sit_especial\"),0,4))\n",
    "                                     .withColumn(\"mes_sit_especial\",substring(col(\"data_sit_especial\"),5,2))\n",
    "                                     .withColumn(\"dia_sit_especial\",substring(col(\"data_sit_especial\"),7,2))\n",
    "                                     .withColumn(\"new_data_sit_especial\",concat_ws(\"-\",\n",
    "                                                                                   col(\"ano_sit_especial\"),\n",
    "                                                                                   col(\"mes_sit_especial\"),\n",
    "                                                                                   col(\"dia_sit_especial\")\n",
    "                                                                                  ).cast(DateType))\n",
    "                                     .drop(\"ano_sit_especial\",\"mes_sit_especial\",\"dia_sit_especial\",\"data_sit_especial\")\n",
    "                                     .withColumnRenamed(\"new_data_sit_especial\",\"data_sit_especial\")\n",
    "                                     .withColumn(\"ano_inicio_atividade\",substring(col(\"data_inicio_atividade\"),0,4))\n",
    "                                     .withColumn(\"mes_inicio_atividade\",substring(col(\"data_inicio_atividade\"),5,2))\n",
    "                                     .withColumn(\"dia_inicio_atividade\",substring(col(\"data_inicio_atividade\"),7,2))\n",
    "                                     .withColumn(\"new_data_inicio_atividade\",concat_ws(\"-\",\n",
    "                                                                                   col(\"ano_inicio_atividade\"),\n",
    "                                                                                   col(\"mes_inicio_atividade\"),\n",
    "                                                                                   col(\"dia_inicio_atividade\")\n",
    "                                                                                  ).cast(DateType))\n",
    "                                     .drop(\"ano_inicio_atividade\",\"mes_inicio_atividade\",\"dia_inicio_atividade\",\"data_inicio_atividade\")\n",
    "                                     .withColumnRenamed(\"new_data_inicio_atividade\",\"data_inicio_atividade\")  \n",
    "                                    )\n",
    "\n"
   ]
  },
  {
   "cell_type": "markdown",
   "id": "dd7bed42",
   "metadata": {},
   "source": [
    "df_estabelecimentos.printSchema()\n",
    "df_estabelecimentos.show(15)"
   ]
  },
  {
   "cell_type": "code",
   "execution_count": 18,
   "id": "802d5a59",
   "metadata": {},
   "outputs": [
    {
     "data": {
      "application/vnd.jupyter.widget-view+json": {
       "model_id": "d323e78bdf8f4e19a455ed752af1522e",
       "version_major": 2,
       "version_minor": 0
      },
      "text/plain": [
       "VBox()"
      ]
     },
     "metadata": {},
     "output_type": "display_data"
    },
    {
     "data": {
      "application/vnd.jupyter.widget-view+json": {
       "model_id": "",
       "version_major": 2,
       "version_minor": 0
      },
      "text/plain": [
       "FloatProgress(value=0.0, bar_style='info', description='Progress:', layout=Layout(height='25px', width='50%'),…"
      ]
     },
     "metadata": {},
     "output_type": "display_data"
    },
    {
     "name": "stdout",
     "output_type": "stream",
     "text": [
      "res21: Long = 49198427\n"
     ]
    }
   ],
   "source": [
    "df_estabelecimentos.count()"
   ]
  },
  {
   "cell_type": "code",
   "execution_count": 52,
   "id": "994ab27b",
   "metadata": {},
   "outputs": [
    {
     "data": {
      "application/vnd.jupyter.widget-view+json": {
       "model_id": "b21308b5a0c44ecd8da0471511545321",
       "version_major": 2,
       "version_minor": 0
      },
      "text/plain": [
       "VBox()"
      ]
     },
     "metadata": {},
     "output_type": "display_data"
    },
    {
     "data": {
      "application/vnd.jupyter.widget-view+json": {
       "model_id": "",
       "version_major": 2,
       "version_minor": 0
      },
      "text/plain": [
       "FloatProgress(value=0.0, bar_style='info', description='Progress:', layout=Layout(height='25px', width='50%'),…"
      ]
     },
     "metadata": {},
     "output_type": "display_data"
    },
    {
     "name": "stdout",
     "output_type": "stream",
     "text": [
      "+-----------------+-----------------------+---------------------+\n",
      "|data_sit_especial|data_situacao_cadastral|data_inicio_atividade|\n",
      "+-----------------+-----------------------+---------------------+\n",
      "|             null|             2016-11-30|           2016-11-30|\n",
      "|             null|             2021-02-12|           2016-11-30|\n",
      "|             null|             2016-12-16|           2016-11-30|\n",
      "|             null|             2021-03-03|           2016-11-30|\n",
      "|             null|             2016-11-30|           2016-11-30|\n",
      "|             null|             2016-11-30|           2016-11-30|\n",
      "|             null|             2018-07-31|           2016-11-30|\n",
      "|             null|             2016-11-30|           2016-11-30|\n",
      "|             null|             2017-04-30|           2016-11-30|\n",
      "|             null|             2021-04-13|           2016-11-30|\n",
      "+-----------------+-----------------------+---------------------+\n",
      "only showing top 10 rows\n",
      "\n"
     ]
    }
   ],
   "source": [
    "df_estabelecimentos_with_date.select(\"data_sit_especial\",\"data_situacao_cadastral\",\"data_inicio_atividade\").show(10)"
   ]
  },
  {
   "cell_type": "code",
   "execution_count": 53,
   "id": "3bedc6e2",
   "metadata": {},
   "outputs": [
    {
     "data": {
      "application/vnd.jupyter.widget-view+json": {
       "model_id": "df33fa7b139349e5a9d0a29805bf7b2c",
       "version_major": 2,
       "version_minor": 0
      },
      "text/plain": [
       "VBox()"
      ]
     },
     "metadata": {},
     "output_type": "display_data"
    },
    {
     "data": {
      "application/vnd.jupyter.widget-view+json": {
       "model_id": "",
       "version_major": 2,
       "version_minor": 0
      },
      "text/plain": [
       "FloatProgress(value=0.0, bar_style='info', description='Progress:', layout=Layout(height='25px', width='50%'),…"
      ]
     },
     "metadata": {},
     "output_type": "display_data"
    },
    {
     "name": "stdout",
     "output_type": "stream",
     "text": [
      "root\n",
      " |-- cnpj_basico: integer (nullable = true)\n",
      " |-- cnpj_ordem: integer (nullable = true)\n",
      " |-- cnpj_dv: integer (nullable = true)\n",
      " |-- id_matriz: integer (nullable = true)\n",
      " |-- nome_fantasia: string (nullable = true)\n",
      " |-- situacao_cadastral: integer (nullable = true)\n",
      " |-- motivo_situacao_cadastral: integer (nullable = true)\n",
      " |-- nome_cidade_exterior: string (nullable = true)\n",
      " |-- id_pais: integer (nullable = true)\n",
      " |-- cnae_fiscal_principal: integer (nullable = true)\n",
      " |-- cnae_fiscal_secundaria: integer (nullable = true)\n",
      " |-- tipo_logradouro: string (nullable = true)\n",
      " |-- logradouro: string (nullable = true)\n",
      " |-- num_estabelecimento: integer (nullable = true)\n",
      " |-- complemento: string (nullable = true)\n",
      " |-- bairro: string (nullable = true)\n",
      " |-- cep: string (nullable = true)\n",
      " |-- uf: string (nullable = true)\n",
      " |-- cod_municipio: integer (nullable = true)\n",
      " |-- ddd1: string (nullable = true)\n",
      " |-- telefone1: string (nullable = true)\n",
      " |-- ddd2: string (nullable = true)\n",
      " |-- telefone2: string (nullable = true)\n",
      " |-- ddd_fax: string (nullable = true)\n",
      " |-- fax: string (nullable = true)\n",
      " |-- email: string (nullable = true)\n",
      " |-- sit_especial: string (nullable = true)\n",
      " |-- data_situacao_cadastral: date (nullable = true)\n",
      " |-- data_sit_especial: date (nullable = true)\n",
      " |-- data_inicio_atividade: date (nullable = true)\n",
      "\n"
     ]
    }
   ],
   "source": [
    "df_estabelecimentos_with_date.printSchema()"
   ]
  },
  {
   "cell_type": "code",
   "execution_count": 67,
   "id": "b34d7b77",
   "metadata": {},
   "outputs": [
    {
     "data": {
      "application/vnd.jupyter.widget-view+json": {
       "model_id": "4f92d813defd4c33997726f15eabb247",
       "version_major": 2,
       "version_minor": 0
      },
      "text/plain": [
       "VBox()"
      ]
     },
     "metadata": {},
     "output_type": "display_data"
    },
    {
     "data": {
      "application/vnd.jupyter.widget-view+json": {
       "model_id": "",
       "version_major": 2,
       "version_minor": 0
      },
      "text/plain": [
       "FloatProgress(value=0.0, bar_style='info', description='Progress:', layout=Layout(height='25px', width='50%'),…"
      ]
     },
     "metadata": {},
     "output_type": "display_data"
    }
   ],
   "source": [
    "(df_estabelecimentos_with_date\n",
    " .write\n",
    " .mode(\"overwrite\")\n",
    " .parquet(s\"s3://datalake-claudemir-649165755582/modulo3-refined/estabelecimentos\")\n",
    ")"
   ]
  },
  {
   "cell_type": "markdown",
   "id": "2b34d719",
   "metadata": {},
   "source": [
    "# ----------------------------------------------------------------------------------------------------------------------------------------------------------------"
   ]
  },
  {
   "cell_type": "code",
   "execution_count": 71,
   "id": "96b965d5",
   "metadata": {},
   "outputs": [
    {
     "data": {
      "application/vnd.jupyter.widget-view+json": {
       "model_id": "03e2917b6ce6480cb376b47ea4954c4a",
       "version_major": 2,
       "version_minor": 0
      },
      "text/plain": [
       "VBox()"
      ]
     },
     "metadata": {},
     "output_type": "display_data"
    },
    {
     "data": {
      "application/vnd.jupyter.widget-view+json": {
       "model_id": "",
       "version_major": 2,
       "version_minor": 0
      },
      "text/plain": [
       "FloatProgress(value=0.0, bar_style='info', description='Progress:', layout=Layout(height='25px', width='50%'),…"
      ]
     },
     "metadata": {},
     "output_type": "display_data"
    },
    {
     "name": "stdout",
     "output_type": "stream",
     "text": [
      "df_municipios_parquet: org.apache.spark.sql.DataFrame = [municipio_cod_municipio: int, descricao_municipio: string]\n",
      "df_cnae_parquet: org.apache.spark.sql.DataFrame = [cod_cnae: int, descricao_cnae: string]\n",
      "df_estabelecimentos_parquet: org.apache.spark.sql.DataFrame = [cnpj_basico: int, cnpj_ordem: int ... 28 more fields]\n"
     ]
    }
   ],
   "source": [
    "val df_municipios_parquet = spark.read.parquet(\"s3://datalake-claudemir-649165755582/modulo3-refined/municipios\").withColumnRenamed(\"cod_municipio\",\"municipio_cod_municipio\")\n",
    "val df_cnae_parquet = spark.read.parquet(\"s3://datalake-claudemir-649165755582/modulo3-refined/cnae\")\n",
    "val df_estabelecimentos_parquet = spark.read.parquet(\"s3://datalake-claudemir-649165755582/modulo3-refined/estabelecimentos\")"
   ]
  },
  {
   "cell_type": "code",
   "execution_count": 12,
   "id": "2a631834",
   "metadata": {},
   "outputs": [
    {
     "data": {
      "application/vnd.jupyter.widget-view+json": {
       "model_id": "",
       "version_major": 2,
       "version_minor": 0
      },
      "text/plain": [
       "VBox()"
      ]
     },
     "metadata": {},
     "output_type": "display_data"
    },
    {
     "data": {
      "application/vnd.jupyter.widget-view+json": {
       "model_id": "",
       "version_major": 2,
       "version_minor": 0
      },
      "text/plain": [
       "FloatProgress(value=0.0, bar_style='info', description='Progress:', layout=Layout(height='25px', width='50%'),…"
      ]
     },
     "metadata": {},
     "output_type": "display_data"
    }
   ],
   "source": [
    "// cod_cnae = cnae_fiscal_principal ; cod_municipio = cod_municipio"
   ]
  },
  {
   "cell_type": "code",
   "execution_count": 72,
   "id": "c27716ad",
   "metadata": {},
   "outputs": [
    {
     "data": {
      "application/vnd.jupyter.widget-view+json": {
       "model_id": "2cbb5b96a78f4a0fa782de07eed3437f",
       "version_major": 2,
       "version_minor": 0
      },
      "text/plain": [
       "VBox()"
      ]
     },
     "metadata": {},
     "output_type": "display_data"
    },
    {
     "data": {
      "application/vnd.jupyter.widget-view+json": {
       "model_id": "",
       "version_major": 2,
       "version_minor": 0
      },
      "text/plain": [
       "FloatProgress(value=0.0, bar_style='info', description='Progress:', layout=Layout(height='25px', width='50%'),…"
      ]
     },
     "metadata": {},
     "output_type": "display_data"
    },
    {
     "name": "stdout",
     "output_type": "stream",
     "text": [
      "joined_df: org.apache.spark.sql.DataFrame = [cnpj_basico: int, cnpj_ordem: int ... 32 more fields]\n"
     ]
    }
   ],
   "source": [
    "val joined_df = (\n",
    "    df_estabelecimentos_parquet\n",
    "    .join(\n",
    "        broadcast(df_municipios_parquet),\n",
    "        df_estabelecimentos_parquet.col(\"cod_municipio\") === df_municipios_parquet.col(\"municipio_cod_municipio\"),\n",
    "        \"left\"\n",
    "    )\n",
    "    .join(\n",
    "        broadcast(df_cnae_parquet),\n",
    "        df_estabelecimentos_parquet.col(\"cnae_fiscal_principal\") === df_cnae_parquet.col(\"cod_cnae\"),\n",
    "        \"left\"\n",
    "    )\n",
    "//     .drop(\"municipio_cod_municipio\")\n",
    ")"
   ]
  },
  {
   "cell_type": "code",
   "execution_count": 73,
   "id": "37b042ef",
   "metadata": {},
   "outputs": [
    {
     "data": {
      "application/vnd.jupyter.widget-view+json": {
       "model_id": "4997b5daab79432e9d837dafd68ee504",
       "version_major": 2,
       "version_minor": 0
      },
      "text/plain": [
       "VBox()"
      ]
     },
     "metadata": {},
     "output_type": "display_data"
    },
    {
     "data": {
      "application/vnd.jupyter.widget-view+json": {
       "model_id": "",
       "version_major": 2,
       "version_minor": 0
      },
      "text/plain": [
       "FloatProgress(value=0.0, bar_style='info', description='Progress:', layout=Layout(height='25px', width='50%'),…"
      ]
     },
     "metadata": {},
     "output_type": "display_data"
    }
   ],
   "source": [
    "(joined_df\n",
    " .write\n",
    " .mode(\"overwrite\")\n",
    " .parquet(s\"s3://datalake-claudemir-649165755582/modulo3-refined/joined_tables\"))"
   ]
  },
  {
   "cell_type": "markdown",
   "id": "487c2f9c",
   "metadata": {},
   "source": [
    "# ----------------------------------------------------------------------------------------------------------------------------------------------------------------"
   ]
  },
  {
   "cell_type": "code",
   "execution_count": 76,
   "id": "cfac37ad",
   "metadata": {},
   "outputs": [
    {
     "data": {
      "application/vnd.jupyter.widget-view+json": {
       "model_id": "9e53ed1b25e54a239010864902a9599b",
       "version_major": 2,
       "version_minor": 0
      },
      "text/plain": [
       "VBox()"
      ]
     },
     "metadata": {},
     "output_type": "display_data"
    },
    {
     "data": {
      "application/vnd.jupyter.widget-view+json": {
       "model_id": "",
       "version_major": 2,
       "version_minor": 0
      },
      "text/plain": [
       "FloatProgress(value=0.0, bar_style='info', description='Progress:', layout=Layout(height='25px', width='50%'),…"
      ]
     },
     "metadata": {},
     "output_type": "display_data"
    },
    {
     "name": "stdout",
     "output_type": "stream",
     "text": [
      "df_joined_tables: org.apache.spark.sql.DataFrame = [cnpj_basico: int, cnpj_ordem: int ... 31 more fields]\n"
     ]
    }
   ],
   "source": [
    "val df_joined_tables = spark.read.parquet(\"s3://datalake-claudemir-649165755582/modulo3-refined/joined_tables\").drop(\"municipio_cod_municipio\")"
   ]
  },
  {
   "cell_type": "code",
   "execution_count": 77,
   "id": "db83e9a4",
   "metadata": {},
   "outputs": [
    {
     "data": {
      "application/vnd.jupyter.widget-view+json": {
       "model_id": "7958b013b7d142dd950c67bbd7567fad",
       "version_major": 2,
       "version_minor": 0
      },
      "text/plain": [
       "VBox()"
      ]
     },
     "metadata": {},
     "output_type": "display_data"
    },
    {
     "data": {
      "application/vnd.jupyter.widget-view+json": {
       "model_id": "",
       "version_major": 2,
       "version_minor": 0
      },
      "text/plain": [
       "FloatProgress(value=0.0, bar_style='info', description='Progress:', layout=Layout(height='25px', width='50%'),…"
      ]
     },
     "metadata": {},
     "output_type": "display_data"
    },
    {
     "name": "stdout",
     "output_type": "stream",
     "text": [
      "root\n",
      " |-- cnpj_basico: integer (nullable = true)\n",
      " |-- cnpj_ordem: integer (nullable = true)\n",
      " |-- cnpj_dv: integer (nullable = true)\n",
      " |-- id_matriz: integer (nullable = true)\n",
      " |-- nome_fantasia: string (nullable = true)\n",
      " |-- situacao_cadastral: integer (nullable = true)\n",
      " |-- motivo_situacao_cadastral: integer (nullable = true)\n",
      " |-- nome_cidade_exterior: string (nullable = true)\n",
      " |-- id_pais: integer (nullable = true)\n",
      " |-- cnae_fiscal_principal: integer (nullable = true)\n",
      " |-- cnae_fiscal_secundaria: integer (nullable = true)\n",
      " |-- tipo_logradouro: string (nullable = true)\n",
      " |-- logradouro: string (nullable = true)\n",
      " |-- num_estabelecimento: integer (nullable = true)\n",
      " |-- complemento: string (nullable = true)\n",
      " |-- bairro: string (nullable = true)\n",
      " |-- cep: string (nullable = true)\n",
      " |-- uf: string (nullable = true)\n",
      " |-- cod_municipio: integer (nullable = true)\n",
      " |-- ddd1: string (nullable = true)\n",
      " |-- telefone1: string (nullable = true)\n",
      " |-- ddd2: string (nullable = true)\n",
      " |-- telefone2: string (nullable = true)\n",
      " |-- ddd_fax: string (nullable = true)\n",
      " |-- fax: string (nullable = true)\n",
      " |-- email: string (nullable = true)\n",
      " |-- sit_especial: string (nullable = true)\n",
      " |-- data_situacao_cadastral: date (nullable = true)\n",
      " |-- data_sit_especial: date (nullable = true)\n",
      " |-- data_inicio_atividade: date (nullable = true)\n",
      " |-- descricao_municipio: string (nullable = true)\n",
      " |-- cod_cnae: integer (nullable = true)\n",
      " |-- descricao_cnae: string (nullable = true)\n",
      "\n"
     ]
    }
   ],
   "source": [
    "df_joined_tables.printSchema()"
   ]
  },
  {
   "cell_type": "code",
   "execution_count": 82,
   "id": "806b191d",
   "metadata": {},
   "outputs": [
    {
     "data": {
      "application/vnd.jupyter.widget-view+json": {
       "model_id": "1717a02d73cf4754801c6273fe87e28e",
       "version_major": 2,
       "version_minor": 0
      },
      "text/plain": [
       "VBox()"
      ]
     },
     "metadata": {},
     "output_type": "display_data"
    },
    {
     "data": {
      "application/vnd.jupyter.widget-view+json": {
       "model_id": "",
       "version_major": 2,
       "version_minor": 0
      },
      "text/plain": [
       "FloatProgress(value=0.0, bar_style='info', description='Progress:', layout=Layout(height='25px', width='50%'),…"
      ]
     },
     "metadata": {},
     "output_type": "display_data"
    },
    {
     "name": "stdout",
     "output_type": "stream",
     "text": [
      "+--------+------------+\n",
      "|cod_cnae|num_empresas|\n",
      "+--------+------------+\n",
      "| 4781400|      991316|\n",
      "| 9602501|      754449|\n",
      "| 4399103|      458648|\n",
      "| 7319002|      453914|\n",
      "| 4712100|      444980|\n",
      "| 5611203|      419118|\n",
      "| 5611201|      363814|\n",
      "| 5620104|      320047|\n",
      "| 8112500|      287024|\n",
      "| 8219999|      266308|\n",
      "+--------+------------+\n",
      "only showing top 10 rows\n",
      "\n"
     ]
    }
   ],
   "source": [
    "(df_joined_tables\n",
    " .filter(\"situacao_cadastral = 2\")\n",
    " .groupBy(\"cod_cnae\").agg(count(col(\"cnpj_basico\")).alias(\"num_empresas\"))\n",
    " .orderBy(desc_nulls_first(\"num_empresas\"))\n",
    " .select(col(\"cod_cnae\"),col(\"num_empresas\"))\n",
    " .show(10)\n",
    ")"
   ]
  },
  {
   "cell_type": "code",
   "execution_count": 87,
   "id": "c71bcc0d",
   "metadata": {},
   "outputs": [
    {
     "data": {
      "application/vnd.jupyter.widget-view+json": {
       "model_id": "893336d522db4c59b6c5b833f5742722",
       "version_major": 2,
       "version_minor": 0
      },
      "text/plain": [
       "VBox()"
      ]
     },
     "metadata": {},
     "output_type": "display_data"
    },
    {
     "data": {
      "application/vnd.jupyter.widget-view+json": {
       "model_id": "",
       "version_major": 2,
       "version_minor": 0
      },
      "text/plain": [
       "FloatProgress(value=0.0, bar_style='info', description='Progress:', layout=Layout(height='25px', width='50%'),…"
      ]
     },
     "metadata": {},
     "output_type": "display_data"
    },
    {
     "name": "stdout",
     "output_type": "stream",
     "text": [
      "res17: Long = 7966472\n"
     ]
    }
   ],
   "source": [
    "(df_joined_tables\n",
    " .filter(\"situacao_cadastral != 2\")\n",
    " .filter(\"uf = 'SP' \")\n",
    " .count()\n",
    ")"
   ]
  },
  {
   "cell_type": "code",
   "execution_count": 122,
   "id": "1bc5f63b",
   "metadata": {},
   "outputs": [
    {
     "data": {
      "application/vnd.jupyter.widget-view+json": {
       "model_id": "b2a0afaa8ed045778c3f0058650d736b",
       "version_major": 2,
       "version_minor": 0
      },
      "text/plain": [
       "VBox()"
      ]
     },
     "metadata": {},
     "output_type": "display_data"
    },
    {
     "data": {
      "application/vnd.jupyter.widget-view+json": {
       "model_id": "",
       "version_major": 2,
       "version_minor": 0
      },
      "text/plain": [
       "FloatProgress(value=0.0, bar_style='info', description='Progress:', layout=Layout(height='25px', width='50%'),…"
      ]
     },
     "metadata": {},
     "output_type": "display_data"
    },
    {
     "name": "stdout",
     "output_type": "stream",
     "text": [
      "+-------------+\n",
      "|cod_municipio|\n",
      "+-------------+\n",
      "|         4123|\n",
      "+-------------+\n",
      "\n"
     ]
    }
   ],
   "source": [
    "df_joined_tables.select(\"cod_municipio\").filter(\"descricao_municipio = 'BELO HORIZONTE'\").distinct().show(10)"
   ]
  },
  {
   "cell_type": "code",
   "execution_count": 127,
   "id": "5b62b69c",
   "metadata": {},
   "outputs": [
    {
     "data": {
      "application/vnd.jupyter.widget-view+json": {
       "model_id": "50cc061c6d764206a5752528966228c6",
       "version_major": 2,
       "version_minor": 0
      },
      "text/plain": [
       "VBox()"
      ]
     },
     "metadata": {},
     "output_type": "display_data"
    },
    {
     "data": {
      "application/vnd.jupyter.widget-view+json": {
       "model_id": "",
       "version_major": 2,
       "version_minor": 0
      },
      "text/plain": [
       "FloatProgress(value=0.0, bar_style='info', description='Progress:', layout=Layout(height='25px', width='50%'),…"
      ]
     },
     "metadata": {},
     "output_type": "display_data"
    },
    {
     "name": "stdout",
     "output_type": "stream",
     "text": [
      "res65: Long = 1114\n"
     ]
    }
   ],
   "source": [
    "// 13 - errada\n",
    "(df_joined_tables\n",
    " .filter(\"situacao_cadastral = 2\")\n",
    "  .filter(\"cod_cnae = 6204000\")\n",
    "//  .filter(\"descricao_cnae like '%Consultoria em tecnologia da informação%'\")\n",
    " .filter(\"cod_municipio = 4123\")\n",
    "//  .select(\"situacao_cadastral\",\"descricao_cnae\",\"descricao_municipio\")\n",
    "//  .show(15)\n",
    "  .count()\n",
    ")"
   ]
  },
  {
   "cell_type": "code",
   "execution_count": 118,
   "id": "f5b0e1ce",
   "metadata": {},
   "outputs": [
    {
     "data": {
      "application/vnd.jupyter.widget-view+json": {
       "model_id": "f3143c0ecade4fa482a442fb0c1b98bb",
       "version_major": 2,
       "version_minor": 0
      },
      "text/plain": [
       "VBox()"
      ]
     },
     "metadata": {},
     "output_type": "display_data"
    },
    {
     "data": {
      "application/vnd.jupyter.widget-view+json": {
       "model_id": "",
       "version_major": 2,
       "version_minor": 0
      },
      "text/plain": [
       "FloatProgress(value=0.0, bar_style='info', description='Progress:', layout=Layout(height='25px', width='50%'),…"
      ]
     },
     "metadata": {},
     "output_type": "display_data"
    },
    {
     "name": "stdout",
     "output_type": "stream",
     "text": [
      "res50: Long = 1114\n"
     ]
    }
   ],
   "source": [
    "(df_joined_tables\n",
    " .filter(\"situacao_cadastral = 2\")\n",
    " .filter(\"cod_cnae = 6204000\")\n",
    " .filter(\"descricao_municipio = 'BELO HORIZONTE'\")\n",
    "//  .select(\"cod_cnae\",\"situacao_cadastral\",\"descricao_cnae\",\"descricao_municipio\")\n",
    "//  .show(15)\n",
    "  .count()\n",
    ")"
   ]
  },
  {
   "cell_type": "code",
   "execution_count": 116,
   "id": "635de9cd",
   "metadata": {},
   "outputs": [
    {
     "data": {
      "application/vnd.jupyter.widget-view+json": {
       "model_id": "443853c64bcd41d0aab657fd701b721c",
       "version_major": 2,
       "version_minor": 0
      },
      "text/plain": [
       "VBox()"
      ]
     },
     "metadata": {},
     "output_type": "display_data"
    },
    {
     "data": {
      "application/vnd.jupyter.widget-view+json": {
       "model_id": "",
       "version_major": 2,
       "version_minor": 0
      },
      "text/plain": [
       "FloatProgress(value=0.0, bar_style='info', description='Progress:', layout=Layout(height='25px', width='50%'),…"
      ]
     },
     "metadata": {},
     "output_type": "display_data"
    },
    {
     "name": "stdout",
     "output_type": "stream",
     "text": [
      "+--------+--------------------+------+\n",
      "|cod_cnae|      descricao_cnae| count|\n",
      "+--------+--------------------+------+\n",
      "| 6209100|Suporte técnico, ...|112784|\n",
      "| 6319400|Portais, provedor...| 31539|\n",
      "| 6399200|Outras atividades...| 19416|\n",
      "| 6204000|Consultoria em te...| 63751|\n",
      "+--------+--------------------+------+\n",
      "\n"
     ]
    }
   ],
   "source": [
    "(df_joined_tables\n",
    " .select(\"cod_cnae\",\"descricao_cnae\")\n",
    " .filter(\"descricao_cnae like '%informação%'\")\n",
    " .groupBy(\"cod_cnae\",\"descricao_cnae\").count()\n",
    " .show(20)\n",
    " )"
   ]
  },
  {
   "cell_type": "code",
   "execution_count": 102,
   "id": "4b605a38",
   "metadata": {},
   "outputs": [
    {
     "data": {
      "application/vnd.jupyter.widget-view+json": {
       "model_id": "27faef11364f4d80a872f4916cff1d97",
       "version_major": 2,
       "version_minor": 0
      },
      "text/plain": [
       "VBox()"
      ]
     },
     "metadata": {},
     "output_type": "display_data"
    },
    {
     "data": {
      "application/vnd.jupyter.widget-view+json": {
       "model_id": "",
       "version_major": 2,
       "version_minor": 0
      },
      "text/plain": [
       "FloatProgress(value=0.0, bar_style='info', description='Progress:', layout=Layout(height='25px', width='50%'),…"
      ]
     },
     "metadata": {},
     "output_type": "display_data"
    },
    {
     "name": "stdout",
     "output_type": "stream",
     "text": [
      "+--------+-------------+-------------------+--------------------+\n",
      "|cod_cnae|nome_fantasia|descricao_municipio|      descricao_cnae|\n",
      "+--------+-------------+-------------------+--------------------+\n",
      "| 8532500|         IGTI|     BELO HORIZONTE|Educação superior...|\n",
      "+--------+-------------+-------------------+--------------------+\n",
      "\n"
     ]
    }
   ],
   "source": [
    "(df_joined_tables\n",
    " .filter(\"nome_fantasia like 'IGTI'\")\n",
    " .filter(\"descricao_municipio = 'BELO HORIZONTE'\")\n",
    " .select(\"cod_cnae\",\"nome_fantasia\",\"descricao_municipio\",\"descricao_cnae\")\n",
    " .show()\n",
    ")"
   ]
  },
  {
   "cell_type": "code",
   "execution_count": 106,
   "id": "22b9d9b7",
   "metadata": {},
   "outputs": [
    {
     "data": {
      "application/vnd.jupyter.widget-view+json": {
       "model_id": "ec06cbbe4fe2425c8861a3f2ddfa3e6b",
       "version_major": 2,
       "version_minor": 0
      },
      "text/plain": [
       "VBox()"
      ]
     },
     "metadata": {},
     "output_type": "display_data"
    },
    {
     "data": {
      "application/vnd.jupyter.widget-view+json": {
       "model_id": "",
       "version_major": 2,
       "version_minor": 0
      },
      "text/plain": [
       "FloatProgress(value=0.0, bar_style='info', description='Progress:', layout=Layout(height='25px', width='50%'),…"
      ]
     },
     "metadata": {},
     "output_type": "display_data"
    },
    {
     "name": "stdout",
     "output_type": "stream",
     "text": [
      "res37: Long = 6314456\n"
     ]
    }
   ],
   "source": [
    "(df_joined_tables\n",
    " .filter(\"data_inicio_atividade >= to_date('2020-01-01','yyyy-MM-dd')\")\n",
    " .select(\"cod_cnae\",\"nome_fantasia\",\"data_inicio_atividade\")\n",
    " .count()\n",
    " //  .show(10)\n",
    ")"
   ]
  }
 ],
 "metadata": {
  "kernelspec": {
   "display_name": "Spark",
   "language": "",
   "name": "sparkkernel"
  },
  "language_info": {
   "codemirror_mode": "text/x-scala",
   "mimetype": "text/x-scala",
   "name": "scala",
   "pygments_lexer": "scala"
  }
 },
 "nbformat": 4,
 "nbformat_minor": 5
}
